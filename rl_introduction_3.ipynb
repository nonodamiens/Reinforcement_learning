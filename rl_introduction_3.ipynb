{
 "cells": [
  {
   "attachments": {
    "grid.PNG": {
     "image/png": "[encoded data removed]"
    }
   },
   "cell_type": "markdown",
   "metadata": {},
   "source": [
    "# Introduction au Reinforcement Learning #3 #\n",
    "\n",
    "Déjà la $3^{ème}$ partie ! C'est bôôô on avance :) Un petit recap avant de commencer ?\n",
    "\n",
    "Jusqu'à maintenant nous avons travailler avec des environnement connu totalement, nous avons donc utilisé ce qu'on appelle des **MODEL BASE ALGORYTHM**.  Pour rappel, nous en avons vu 3 :\n",
    "* POLICY EVALUATION\n",
    "* POLICY ITERATION\n",
    "* VALUE ITERATION\n",
    "\n",
    "(Petit précision en passant, quand on parle d'environnement, il serait plus correct de parler du model que ce fait l'algo de l'environnement)\n",
    "\n",
    "Par la suite, nous allons nous demander comment faire lorsque l'environnement n'est pas totalement connu, Est-ce toujours possible de trouver une **optimal policy** dans ces cas ?\n",
    "\n",
    "Mais avant tout on va un peu compléter les model base algorythm.\n",
    "\n",
    "SOMMAIRE :\n",
    "\n",
    "[1. Compléments sur le **DYNAMIC PROGRAMMING**](#chapter1)\n",
    "\n",
    "[2. Introduction aux **MODEL FREE ALGORYTHM**](#chapter2)\n",
    "\n",
    "![grid.PNG](attachment:grid.PNG)"
   ]
  },
  {
   "cell_type": "markdown",
   "metadata": {},
   "source": [
    "## Compléments sur le **Dynamic Programming** ##\n",
    "<a id=\"chapter1\"></a>\n",
    "\n",
    "*Quoi qu'est ce que ce **Dynamic Programming** ???*\n",
    "\n",
    "Ah oui pardon, j'avais pas introduit le terme avant (shame...), c'est juste un terme assez générique pour désigner les techniques de résolution de problèmes d'optimisation. Ce que l'on a vu jusqu'à maintenant sont des techniques de Dynamic Programming.\n",
    "\n",
    "Les algos que nous avons vus ont tous 2 grands défauts :\n",
    "* Ils ont besoin d'un model parfait de l'environnement\n",
    "* Ils sont potentielement très gourmand en ressources\n",
    "\n",
    "Pour résoudre le problème de ressources, il y a des optimisations d'algo possible dont nous n'avons pas parlé : Les **Asynchronous Dynamic Programming** !\n",
    "\n",
    "La principal différence est de retenir et évaluer les états de manière asynchrone ! Obvious isn't it ? En gros on ne regarde plus l'ensemble des états en une fois mais état par état. On peut passer plusieurs fois sur un état avant de passer au moins une fois sur tous. La convergence est toujours respectée si au bout du compte on évalue bien tous les états.\n",
    "\n",
    "Il y a plusieurs techniques que l'on ne va pas détailler ici. Désolé :("
   ]
  },
  {
   "cell_type": "markdown",
   "metadata": {},
   "source": [
    "## Introduction aux **Model Free Algorythm** ##\n",
    "<a id=\"chapter2\"></a>\n",
    "Bon c'est bien les Model Base Algorythm mais comme on a vu, ça se complique vite dès que les environnements grossisent. Même notre pauvre morpion est déjà bien gros comme environnement. Du coup il nous faut des nouvelles méthodes, des nouveaux algos qui n'ont pas besoin de connaitre farpaitement l'environnement. Et il y'en a ! Voici venir le temps des **Model Free Algorythm** ! Hourra !"
   ]
  }
 ],
 "metadata": {
  "hide_input": false,
  "kernelspec": {
   "display_name": "Python 3",
   "language": "python",
   "name": "python3"
  },
  "language_info": {
   "codemirror_mode": {
    "name": "ipython",
    "version": 3
   },
   "file_extension": ".py",
   "mimetype": "text/x-python",
   "name": "python",
   "nbconvert_exporter": "python",
   "pygments_lexer": "ipython3",
   "version": "3.7.3"
  },
  "toc": {
   "base_numbering": 1,
   "nav_menu": {},
   "number_sections": true,
   "sideBar": true,
   "skip_h1_title": false,
   "title_cell": "Table of Contents",
   "title_sidebar": "Contents",
   "toc_cell": false,
   "toc_position": {},
   "toc_section_display": true,
   "toc_window_display": false
  },
  "varInspector": {
   "cols": {
    "lenName": 16,
    "lenType": 16,
    "lenVar": 40
   },
   "kernels_config": {
    "python": {
     "delete_cmd_postfix": "",
     "delete_cmd_prefix": "del ",
     "library": "var_list.py",
     "varRefreshCmd": "print(var_dic_list())"
    },
    "r": {
     "delete_cmd_postfix": ") ",
     "delete_cmd_prefix": "rm(",
     "library": "var_list.r",
     "varRefreshCmd": "cat(var_dic_list()) "
    }
   },
   "types_to_exclude": [
    "module",
    "function",
    "builtin_function_or_method",
    "instance",
    "_Feature"
   ],
   "window_display": false
  }
 },
 "nbformat": 4,
 "nbformat_minor": 4
}
