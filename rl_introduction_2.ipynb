{
 "cells": [
  {
   "cell_type": "markdown",
   "metadata": {
    "ExecuteTime": {
     "end_time": "2020-06-14T09:48:31.510615Z",
     "start_time": "2020-06-14T09:48:31.506619Z"
    }
   },
   "source": [
    "# Introduction au Reinforcement Learning #2 #\n",
    "\n",
    "Seconde partie de notre petit introduction au reinforcement learning. On a vu dans la première partie une manière intuitive d'entrainer un agent à résoudre un jeu de morpion que l'on pourrait appliquer à d'autres jeu ou d'autres scénarios mais il est temps de mettre un peu de théorie.\n",
    "\n",
    "*Ok mais juste un peu hein ?*\n",
    "\n",
    "Ok ok vraiment juste ce qu'il faut pour avancer. Promis."
   ]
  },
  {
   "attachments": {
    "image.png": {
     "image/png": "[encoded data removed]"
    }
   },
   "cell_type": "markdown",
   "metadata": {},
   "source": [
    "## Un peu de théorie ##\n",
    "\n",
    "Reprenons les bases. De quoi avons nous besoins ? D'un **agent** et d'un **environnement**. Quel est le but de l'agent ? De parcourir l'environnement, d'apprendre et de trouver le parcours optimal.\n",
    "\n",
    "*ok... ça reste assez vague là, non ?*\n",
    "\n",
    "Oui mais on va illustrer ça avec un peu de code pour mieux comprendre. Commençons par définir un environnement. Imaginons un carré découpé en 9 cases. (un peu comme notre grille de Morpion)\n",
    "\n",
    "![image.png](attachment:image.png)\n",
    "\n",
    "Là c'est un environnement **très très simple** et completement **connu** (un environnement pourrait être partielement connu voir inconnu) pour illustrer mais bien entendu on peu avoir des environnements beaucoup plus compliqué. Rien que pour notre jeu du Morpion l'environnement sera tous les coups possibles !"
   ]
  },
  {
   "cell_type": "code",
   "execution_count": 1,
   "metadata": {
    "ExecuteTime": {
     "end_time": "2020-06-21T06:18:32.753577Z",
     "start_time": "2020-06-21T06:18:32.740581Z"
    }
   },
   "outputs": [
    {
     "data": {
      "text/plain": [
       "[[0, 0, 0], [0, 0, 0], [0, 0, 0]]"
      ]
     },
     "execution_count": 1,
     "metadata": {},
     "output_type": "execute_result"
    }
   ],
   "source": [
    "# Création de notre environnement de base\n",
    "def create_env(size):\n",
    "    '''Create a square empty environnement\n",
    "    -size : number of case in line'''\n",
    "    return [[0 for i in range(size)] for j in range(size)]\n",
    "\n",
    "# Il est constitué de 3 lignes de 3 cases que l'on peu définir avec une liste comme ci-dessous\n",
    "env = create_env(3)\n",
    "        \n",
    "env"
   ]
  },
  {
   "cell_type": "markdown",
   "metadata": {},
   "source": [
    "Maintenant nous pouvons mettre un agent dans notre environnement et le faire explorer. Notre agent sera simplement représenté par les coordonnées d'une case. On sera donc où il se trouve dans l'environnement."
   ]
  },
  {
   "cell_type": "code",
   "execution_count": 103,
   "metadata": {
    "ExecuteTime": {
     "end_time": "2020-06-21T13:05:35.189806Z",
     "start_time": "2020-06-21T13:05:35.177837Z"
    }
   },
   "outputs": [
    {
     "name": "stdout",
     "output_type": "stream",
     "text": [
      "Boris se trouve sur la case à l'intersection de la ligne 0 et de la colonne 1 de notre environnement.\n"
     ]
    }
   ],
   "source": [
    "# Appelons notre ami Boris et plongeons le dans l'environnement au hasard\n",
    "import random\n",
    "random.seed(777)\n",
    "\n",
    "boris = (random.randint(0, 2), random.randint(0,2))\n",
    "\n",
    "print('Boris se trouve sur la case à l\\'intersection de la ligne', boris[0], 'et de la colonne', boris[1], 'de notre environnement.')"
   ]
  },
  {
   "attachments": {
    "image.png": {
     "image/png": "[encoded data removed]"
    }
   },
   "cell_type": "markdown",
   "metadata": {},
   "source": [
    "Voilà notre agent infiltré Boris se trouve donc là :\n",
    "![image.png](attachment:image.png)\n",
    "\n",
    "*Cool !*\n",
    "\n",
    "Maintenant faut dire à notre agent de se déplacer pour **explorer** l'environnement. Mais comme il est un peu bête-bête, il va falloir lui dire comment faire. Pour ça on va lui donner une rêgle de déplacement qu'on appelera **POLICY** représenté par le symbole **π**.\n",
    "\n",
    "*Ooooh... Mais comment qu'on fait ça concrétement ?*\n",
    "\n",
    "Ah et bien libre à vous, on parle de théorie là faut que ça s'adapte à toutes les situation et sytèmes.\n",
    "\n",
    "*Mais euh... Chais pas moi :(*\n",
    "\n",
    "Ok ok. On va définir une policy pour notre agent pour donner un exemple. Qu'est-ce qu'on pourrait faire ? ... On a qu'à dire tout simplement que notre agent peut se déplacer dans n'importe quelle direction de façon aléatoire avec la même proba. Comme notre environnement nous impose de nous déplacer de droite à gauche ou de haut en bas (Bon j'avoue c'est moi qui vient de décider que l'environnement fonctionne comme ça !), notre agent aura 0.25 chance d'aller dans une direction. On aurait pu choisir une autre rêgle, genre il a 80% de chance d'aller vers le bas ou quand il fait beau il va en haut et quand il fait gris il va en bas ! Encore une fois on est libre (pour l'instant...)\n",
    "\n",
    "Allez, programmons notre policy pour notre agent"
   ]
  },
  {
   "cell_type": "code",
   "execution_count": 124,
   "metadata": {
    "ExecuteTime": {
     "end_time": "2020-06-21T13:36:26.876751Z",
     "start_time": "2020-06-21T13:36:26.856786Z"
    }
   },
   "outputs": [
    {
     "name": "stdout",
     "output_type": "stream",
     "text": [
      "Nouvel emplacement de Boris : (0, 1)\n"
     ]
    }
   ],
   "source": [
    "# Créons une fonction de déplacement qui suit la policy définie\n",
    "def deplacement(limit, position, direction=-1, probability=1):\n",
    "    '''fonction de deplacement de l'agent\n",
    "    - limit : taille limite de l'env. où se trouve l'agent\n",
    "    - position : position de l'agent (tuple)\n",
    "    - direction : direction choisie de l'agent (int)\n",
    "    - probability : probabilité de l'agent d'aller dans la bonne direction\n",
    "    '''\n",
    "    if direction == -1 :\n",
    "        direction = random.randint(0,3)\n",
    "    elif random.random() > probability:\n",
    "        directions = [d for d in range(4)]\n",
    "        directions.remove(direction)\n",
    "        direction = random.choice(directions)\n",
    "            \n",
    "    if direction == 0 and position[0] - 1 >= 0: # déplacement vers le haut si possible\n",
    "        new_position = (position[0] - 1, position[1])\n",
    "    elif direction == 1 and position[1] + 1 < limit: # déplacement vers la droite\n",
    "        new_position = (position[0], position[1] + 1)\n",
    "    elif direction == 2 and position[0] + 1 < limit: # déplacement vers le bas\n",
    "        new_position = (position[0] + 1, position[1])\n",
    "    elif direction == 3 and position[1] - 1 >= 0: # déplacement vers la gauche\n",
    "        new_position = (position[0], position[1] - 1)\n",
    "    else:\n",
    "        # Déplacement impossible\n",
    "        new_position = False\n",
    "    return new_position\n",
    "\n",
    "# Déplaçons Boris selon notre policy\n",
    "random.seed(777)\n",
    "boris = deplacement(len(env), boris)\n",
    "\n",
    "print('Nouvel emplacement de Boris :', boris)"
   ]
  },
  {
   "attachments": {
    "image.png": {
     "image/png": "[encoded data removed]"
    }
   },
   "cell_type": "markdown",
   "metadata": {},
   "source": [
    "Voilà notre agent s'est déplacé selon la policy et se retrouve là :\n",
    "![image.png](attachment:image.png)\n",
    "\n",
    "On peut continuer comme ça et faire **explorer** l'environnement en entier par l'agent. Bon comme ça, ça sert pas à grand chose. Boris peut se déplacer indéfinement dans l'environnement mais là il apprend rien.\n",
    "\n",
    "*Bah oui il est un peu nul l'environnement. Faudrait y rajouter des trucs qui puissent intéresser Boris.*"
   ]
  },
  {
   "attachments": {
    "image.png": {
     "image/png": "[encoded data removed]"
    }
   },
   "cell_type": "markdown",
   "metadata": {},
   "source": [
    "Oui du coup on va étoffer un peu notre environnement. Voyons voir...\n",
    "\n",
    "![image.png](attachment:image.png)\n",
    "\n",
    "Voilà ! Maintenant il y a des sous-sous dans une des cases et un danger dans une autre. Du coup on peut echainer sur la notion de **récompense** (**reward**), on peut dire que si Boris arrive sur la case \"$\" il obtient une **récompense positive** et si il tombe dans la case \"!\", là il obtient une **récompense négative**.\n",
    "\n",
    "Du coup maintenant, Boris à un but noble et beau : amasser le plus de pognon !!!\n",
    "\n",
    "*Bon c'est bien gentil mais comment on traduit ça en code ?*\n",
    "\n",
    "Bonne question et bien donnons une valeur à nos \"$\" et \"!\". Par la même occasion on va mettre zéro pour les cases neutres, sans récompense ni danger."
   ]
  },
  {
   "cell_type": "code",
   "execution_count": 4,
   "metadata": {
    "ExecuteTime": {
     "end_time": "2020-06-21T06:18:43.051003Z",
     "start_time": "2020-06-21T06:18:43.043004Z"
    }
   },
   "outputs": [
    {
     "data": {
      "text/plain": [
       "[[0, 0, 1], [0, 0, -1], [0, 0, 0]]"
      ]
     },
     "execution_count": 4,
     "metadata": {},
     "output_type": "execute_result"
    }
   ],
   "source": [
    "# Modification de l'environnement\n",
    "new_env = create_env(3)\n",
    "\n",
    "new_env[0][2] = 1\n",
    "new_env[1][2] = -1\n",
    "\n",
    "new_env"
   ]
  },
  {
   "cell_type": "markdown",
   "metadata": {},
   "source": [
    "Bon maintenant on peut faire évoluer Boris dans l'environnement et voir combien de pépettes il peut récupérer ^^"
   ]
  },
  {
   "cell_type": "code",
   "execution_count": 5,
   "metadata": {
    "ExecuteTime": {
     "end_time": "2020-06-21T06:18:45.365664Z",
     "start_time": "2020-06-21T06:18:45.344664Z"
    }
   },
   "outputs": [
    {
     "name": "stdout",
     "output_type": "stream",
     "text": [
      "Fin de l'exploration de Boris.\n",
      "Gains de Boris : -34 $\n"
     ]
    }
   ],
   "source": [
    "# On donne une tirelire à Boris où mettre ses sous\n",
    "tirelire = 0 # Elle est vide au début off course\n",
    "\n",
    "# On fait une boucle pour laisser Boris explorer 100 fois l'environnement\n",
    "exploration = 100\n",
    "while exploration > 0:\n",
    "    boris = (2, 0) # Par commodité on lâche Boris toujours au même endroit\n",
    "    explore = True\n",
    "    while explore:\n",
    "        pi = random.randint(0,3) # On reprend notre policy\n",
    "        \n",
    "        # Boris se déplace\n",
    "        new_boris = deplacement(3, boris)\n",
    "        if new_boris:\n",
    "            boris = new_boris\n",
    "            \n",
    "        # On récupère la valeur de la case et on la met dans sa poche\n",
    "            tirelire += new_env[boris[0]][boris[1]]\n",
    "        \n",
    "        # On vérifie si l'exploration est terminée (arrivé sur la case \"$\" ou \"!\")\n",
    "        if boris == (0, 2) or boris == (1, 2):\n",
    "            explore = False\n",
    "            \n",
    "    exploration -= 1\n",
    "    \n",
    "print(\"Fin de l'exploration de Boris.\")\n",
    "print(\"Gains de Boris :\", tirelire, \"$\")"
   ]
  },
  {
   "cell_type": "markdown",
   "metadata": {},
   "source": [
    "*WHAAAAAT !! Mais il a pas du tout gagner d'argent le Boris !*\n",
    "\n",
    "Oui on voit bien qu'il est plus souvent tombé sur la case piège que sur la case gain. Et c'est normal au vu de la case de départ et de la policy (déplacement aléatoire). Notre **policy** n'est donc pas optimale.\n",
    "\n",
    "*Comment avoir une meilleure policy ?*\n",
    "\n",
    "Et bien il faut que notre agent puisse déterminer la **valeur** de ses déplacements, de ses **actions**. Il va nous falloir un nouveau concept théorique. Dites bonjour à la **Value Function** !"
   ]
  },
  {
   "attachments": {
    "image.png": {
     "image/png": "[encoded data removed]"
    }
   },
   "cell_type": "markdown",
   "metadata": {},
   "source": [
    "## Un peu plus de théorie ##\n",
    "\n",
    "La **Value Function** sert à determiner la **valeur d'un état et/ou d'une action**. Pour déterminer ces valeurs on va retropropager la récompense dans l'environnement. Ainsi Boris poura \"obtenir/voir\" une partie de la récompense selon ses déplacements. Intuitivement cela correspond à donner une valeur plus grande au déplacement qui se rapproche de la récompense.\n",
    "\n",
    "La value function va calculer l'espérance de gain de tous les états de l'environnement.\n",
    "\n",
    "Allez comme vous aimez les maths :\n",
    "\n",
    "$$ v(s) = E [G_{t} | S_{t} = s] $$\n",
    "$$ G_{t} = \\sum_{k=0}^{\\infty} \\gamma^{k}R_{t+k+1}$$\n",
    "$s$ = état, $t$ = temps, $\\gamma$ = discount factor (coefficient d'actualisation), $G$ = Fonction de gain, $R$ = récompense\n",
    "\n",
    "Bon allez ! Ralez pas, c'était juste pour vous embêter ;) En gros, ça dit juste que la value function à l'état \"s\" est l'éspérance (la moyenne) des gains futurs.\n",
    "\n",
    "Et pour simplifier les choses on va utiliser l'**équation de Bellman** qui est la version récurrente de la value function.\n",
    "\n",
    "$$ v(s) = E [R_{t+1} + \\gamma.v(S_{t+1}) | S_t = s]$$\n",
    "\n",
    "*Salaud !*\n",
    "\n",
    "Mais non, mais non pas d'inquiétude on va tout comprendre en calculant la value fonction pour notre petit environnement. Donc pour rappel notre environnement ressemble à ça pour l'agent :\n",
    "![image.png](attachment:image.png)\n",
    "\n",
    "Et l'agent se déplace selon une politique random soit toutes les directions ont la même probabilité. Calculons la value function."
   ]
  },
  {
   "cell_type": "code",
   "execution_count": 140,
   "metadata": {
    "ExecuteTime": {
     "end_time": "2020-06-21T14:04:17.140748Z",
     "start_time": "2020-06-21T14:04:17.088780Z"
    },
    "scrolled": true
   },
   "outputs": [
    {
     "name": "stdout",
     "output_type": "stream",
     "text": [
      "Calcul de l'état (case) : (0, 0) : ( 0 + 0 + 0 + 0 ) /  4  =  0.0\n",
      "Calcul de l'état (case) : (0, 1) : ( 0 + 1 + 0 + 0 ) /  4  =  0.25\n",
      "Calcul de l'état (case) : (1, 0) : ( 0 + 0 + 0 + 0 ) /  4  =  0.0\n",
      "Calcul de l'état (case) : (1, 1) : ( 0 + -1 + 0 + 0 ) /  4  =  -0.25\n",
      "Calcul de l'état (case) : (2, 0) : ( 0 + 0 + 0 + 0 ) /  4  =  0.0\n",
      "Calcul de l'état (case) : (2, 1) : ( 0 + 0 + 0 + 0 ) /  4  =  0.0\n",
      "Calcul de l'état (case) : (2, 2) : ( -1 + 0 + 0 + 0 ) /  4  =  -0.25\n"
     ]
    },
    {
     "data": {
      "text/plain": [
       "[[0.0, 0.25, 1], [0.0, -0.25, -1], [0.0, 0.0, -0.25]]"
      ]
     },
     "execution_count": 140,
     "metadata": {},
     "output_type": "execute_result"
    }
   ],
   "source": [
    "# Comme c'est un peu compliqué de la calculer d'un seul coup on va calculer une première fois pour chaque case (état)\n",
    "# Et on va faire une fonction pour ne pas à recommencer d'écrire le code à chaque fois ^^\n",
    "# On ajoute aussi quelques arguments qui nous servirons plus tard\n",
    "def VF(env, end_state, if_out, proba=1, policy='random', info=False):\n",
    "    '''Calcul la value function pour un etat\n",
    "    - env : environnement (listxlist)\n",
    "    - end_state : les états de fin (gain ou perte) (listxtuple)\n",
    "    - if_out : comportement si direction en dehors de l'environnement (None ou int)\n",
    "    - proba : probabilité du déplacement choisi (float{0,1})\n",
    "    - policy : les choix de déplacement ('random' ou listxlist == env.size)\n",
    "    - info : pour afficher les étapes de calcul (boolean)\n",
    "    '''\n",
    "    v = [ligne.copy() for ligne in env]\n",
    "    v_new = [ligne.copy() for ligne in env]\n",
    "    size = len(env)\n",
    "    for ligne in range(size):\n",
    "        for colonne in range(size):\n",
    "            # On vérfie qu'on est pas sur une case de fin\n",
    "            if (ligne, colonne) not in end_state:\n",
    "                # On prend la valeur de la case selon la direction si elle existe\n",
    "                haut = v[ligne-1][colonne] if ligne > 0 else if_out\n",
    "                bas = v[ligne+1][colonne] if ligne < size - 1 else if_out\n",
    "                droite = v[ligne][colonne+1] if colonne < size - 1 else if_out\n",
    "                gauche = v[ligne][colonne-1] if colonne > 0 else if_out\n",
    "            \n",
    "                # on actualise la valeur moyenne de la case de notre value function (à l'exception des case '$' et '!')\n",
    "                directions = [haut, droite, bas, gauche]\n",
    "                if policy == 'random':\n",
    "                    directions = [v for v in directions if v is not None] # On retire les directions impossibles si existe\n",
    "                    v_new[ligne][colonne] = sum(directions) / len(directions)\n",
    "                else:\n",
    "                    v_direction = directions.pop(policy[ligne][colonne]) # On récupère la valeur de la direction de la policy\n",
    "                    directions = [v for v in directions if v is not None]\n",
    "                    v_new[ligne][colonne] = v_direction * proba + sum(directions) * (1 - proba) / len(directions)\n",
    "                \n",
    "                # Print les étapes si spécifié\n",
    "                if info:\n",
    "                    print(\"Calcul de l'état (case) :\", (ligne, colonne), ': (', \\\n",
    "                          haut, '+', droite, '+', bas, '+', gauche, ') / ', len(directions), ' = ', v_new[ligne][colonne])\n",
    "    return v_new\n",
    "\n",
    "v1 = VF(new_env, [(0,2), (1,2)], 0, info=True)\n",
    "\n",
    "v1"
   ]
  },
  {
   "attachments": {
    "image.png": {
     "image/png": "[encoded data removed]"
    }
   },
   "cell_type": "markdown",
   "metadata": {},
   "source": [
    "Donc voilà, pour chaque case nous avons calculé la moyenne des gains/valeurs que l'on peut obtenir pour chaque directions à partir de cette case.\n",
    "\n",
    "on a calculé : $ v(s_t) = E[v(s_{t+1})] $\n",
    "\n",
    "*Hé mais il manque le $R$ et le $\\gamma$ !*\n",
    "\n",
    "Le $R$ on le calcul que lorsqu'on arrive sur une case de fin (cas particulier de notre environnement) donc c'est normal et le $\\gamma$, c'est une valeur qu'on utilise pour atténuer l'influence des états proportionnelement de l'état actuel. En gros cela veut dire qu'on accorde plus d'importance dans le process de décision aux états proches. En tout cas pas trés utile pour notre exemple et du coup ici le on $\\gamma = 1$ dans la pratique on le mets souvent à $0,9$.\n",
    "\n",
    "Résultat :\n",
    "\n",
    "![image.png](attachment:image.png)\n",
    "\n",
    "*Hé mais c'est super !!! Mais ça sert à quoi ?*\n",
    "\n",
    "Attends, c'est pas fini. Pour avoir la Value Function réelle, il faut itérer ce process une infinité de fois !\n",
    "\n",
    "*What ! Mais c'est n'importe quoi !*\n",
    "\n",
    "Oui bon ok, l'infini c'est pas atteignable. Du coup faut choisir une stratégie pour se rapprocher au plus près de la VF réelle sans que ce soit trop pénalisant d'un point de vu ressources. Il y'en a plusieurs, par exemple on peut regarder si l'écart entre les mises à jour des valeurs devient très petit. Mais en général on atteint des valeurs acceptables bien avant car finalement l'important c'est d'avoir des valeurs qui représente bien l'intéret d'une case par rapport aux autres, peu importe la valeur exacte qu'elle devrait avoir... C'est pas clair ?\n",
    "\n",
    "Bon recommençons notre process 2 ou 3 fois"
   ]
  },
  {
   "cell_type": "code",
   "execution_count": 141,
   "metadata": {
    "ExecuteTime": {
     "end_time": "2020-06-21T14:04:48.885486Z",
     "start_time": "2020-06-21T14:04:48.865477Z"
    },
    "scrolled": true
   },
   "outputs": [
    {
     "data": {
      "text/plain": [
       "[[0.0625, 0.1875, 1], [-0.0625, -0.1875, -1], [0.0, -0.125, -0.25]]"
      ]
     },
     "metadata": {},
     "output_type": "display_data"
    },
    {
     "data": {
      "text/plain": [
       "[[0.03125, 0.21875, 1],\n",
       " [-0.03125, -0.25, -1],\n",
       " [-0.046875, -0.109375, -0.28125]]"
      ]
     },
     "metadata": {},
     "output_type": "display_data"
    }
   ],
   "source": [
    "v2 = VF(v1, [(0,2), (1,2)], 0)\n",
    "display(v2)\n",
    "\n",
    "v3 = VF(v2, [(0,2), (1,2)], 0)\n",
    "display(v3)"
   ]
  },
  {
   "attachments": {
    "image.png": {
     "image/png": "[encoded data removed]"
    }
   },
   "cell_type": "markdown",
   "metadata": {},
   "source": [
    "Résultat :\n",
    "![image.png](attachment:image.png)"
   ]
  },
  {
   "cell_type": "code",
   "execution_count": 142,
   "metadata": {
    "ExecuteTime": {
     "end_time": "2020-06-21T14:05:03.026546Z",
     "start_time": "2020-06-21T14:05:02.782545Z"
    },
    "scrolled": true
   },
   "outputs": [
    {
     "data": {
      "text/plain": [
       "[[0.030844881537773806, 0.1935628073312472, 1],\n",
       " [-0.07018328118015198, -0.25659365221278496, -1],\n",
       " [-0.054984354045596776, -0.1497541350022351, -0.2874385337505588]]"
      ]
     },
     "execution_count": 142,
     "metadata": {},
     "output_type": "execute_result"
    }
   ],
   "source": [
    "# Pour le fun\n",
    "v_old = [ligne.copy() for ligne in v3]\n",
    "\n",
    "for x in range(10000): # presque l'infini non ?\n",
    "    v_new = VF(v_old, [(0,2), (1,2)], 0)\n",
    "    v_old = [ligne.copy() for ligne in v_new]\n",
    "\n",
    "v_new"
   ]
  },
  {
   "attachments": {
    "image.png": {
     "image/png": "[encoded data removed]"
    }
   },
   "cell_type": "markdown",
   "metadata": {},
   "source": [
    "Soit :\n",
    "![image.png](attachment:image.png)\n",
    "\n",
    "On voit que l'odre des cases par valeurs est le même après 10000 itération que celui après 3 itérations. Dans la pratique, l'infini n'est pas nécessaire.\n",
    "\n",
    "*Ok super mais encore une fois, ça sert à quoi ?*\n",
    "\n",
    "Et bien justement ça sert à **évaluer notre policy**. En effet si on avait eu un policy différente la VF aurait été différente également.\n",
    "\n",
    "Maintenant, roulement de tambour ... **brbrbrbrbrbrbrbrbr** ... Nous pouvons en déduire le chemin **optimal** !! Et donner une nouvelle policy à Boris !! Une **optimal policy** que nous nommerons **π**\n",
    "\n",
    "*Ooooh Show me the money !!*\n",
    "\n",
    "Yes, on se calme. Il suffit de dire à notre de se déplacer en fonction des valeurs de la value function. Allons'y"
   ]
  },
  {
   "cell_type": "code",
   "execution_count": 143,
   "metadata": {
    "ExecuteTime": {
     "end_time": "2020-06-21T14:05:14.000685Z",
     "start_time": "2020-06-21T14:05:13.984690Z"
    }
   },
   "outputs": [
    {
     "data": {
      "text/plain": [
       "[[1, 1, 1], [0, 0, -1], [0, 3, 3]]"
      ]
     },
     "execution_count": 143,
     "metadata": {},
     "output_type": "execute_result"
    }
   ],
   "source": [
    "# D'abord on définit notre optimal policy avec notre v_new (ou v3 ça marche aussi ^^)\n",
    "def optimal_policy(vf, end_state):\n",
    "    '''définit notre optimal policy\n",
    "    - vf : résultat de la value function ou policy evaluation (listxlist)\n",
    "    '''\n",
    "    size = len(vf)\n",
    "    policy = [ligne.copy() for ligne in vf]\n",
    "    for ligne in range(size):\n",
    "        for colonne in range(size):\n",
    "            if (ligne, colonne) not in end_state:\n",
    "                haut = vf[ligne-1][colonne] if ligne > 0 else None\n",
    "                bas = vf[ligne+1][colonne] if ligne < size - 1 else None\n",
    "                droite = vf[ligne][colonne+1] if colonne < size - 1 else None\n",
    "                gauche = vf[ligne][colonne-1] if colonne > 0 else None\n",
    "\n",
    "                directions = [haut, droite, bas, gauche]\n",
    "                dir_true = [v for v in directions if v is not None] # On retire les directions impossibles si existe\n",
    "                policy[ligne][colonne] = directions.index(max(dir_true))\n",
    "            else:\n",
    "                policy[ligne][colonne] = vf[ligne][colonne]\n",
    "                \n",
    "    return policy\n",
    "\n",
    "v_pi = optimal_policy(v_new, [(0,2), (1,2)])\n",
    "\n",
    "v_pi"
   ]
  },
  {
   "cell_type": "code",
   "execution_count": 144,
   "metadata": {
    "ExecuteTime": {
     "end_time": "2020-06-21T14:05:21.963686Z",
     "start_time": "2020-06-21T14:05:21.951657Z"
    },
    "scrolled": true
   },
   "outputs": [
    {
     "name": "stdout",
     "output_type": "stream",
     "text": [
      "Fin de l'exploitation GREEDY de l'environnement par Boris.\n",
      "Gains de Boris : 100 $\n"
     ]
    }
   ],
   "source": [
    "# Reprenons Boris avec sa tirelire vide (on est gentil on efface sa dette précédente)\n",
    "tirelire = 0\n",
    "\n",
    "size = len(new_env)\n",
    "# Boris va une nouvelle parcourir 100 fois l'env.\n",
    "exploration = 100\n",
    "while exploration > 0:\n",
    "    boris = (2, 0) # Par commodité on lâche Boris toujours au même endroit\n",
    "    explore = True\n",
    "    while explore:\n",
    "        # Boris se déplace avec sa nouvelle policy\n",
    "        boris = deplacement(size, boris, v_pi[boris[0]][boris[1]])\n",
    "        if boris == (0, 2) or boris == (1, 2):\n",
    "            tirelire += new_env[boris[0]][boris[1]] # on lui donne sa récompense\n",
    "            explore = False\n",
    "            \n",
    "    exploration -= 1\n",
    "    \n",
    "print(\"Fin de l'exploitation GREEDY de l'environnement par Boris.\")\n",
    "print(\"Gains de Boris :\", tirelire, \"$\")"
   ]
  },
  {
   "attachments": {
    "image.png": {
     "image/png": "[encoded data removed]"
    }
   },
   "cell_type": "markdown",
   "metadata": {},
   "source": [
    "*Boris est riche !!!*\n",
    "\n",
    "Ouais d'ailleurs faut pas trop le laisser se balader dans l'environnement là, ou sinon je vais être ruiné !\n",
    "\n",
    "Voilà nous avons permis à Boris de **plannifier** un parcours optimal pour avoir sa récompense. Si on détail sa nouvelle policy elle ressemblera à ça :\n",
    "![image.png](attachment:image.png)\n",
    "\n",
    "Petit rappel de ce que l'on a vu :\n",
    "- Agent\n",
    "- Environnement\n",
    "- Policy\n",
    "- Value Function\n",
    "- Equation de Bellman\n",
    "\n",
    "Ce que nous avons fait c'est une **POLICY EVALUATION** qui nous a permis de **PLANNIFIER** une **OPTIMAL POLICY**. Cette solution n'est pas appliquable à toutes les situations.\n",
    "Ses limites :\n",
    "- On doit connaitre entièrement l'environnement ou le **modèle** qui caractérise l'environnement. C'est un **model base algorythm**\n",
    "- Elle ne permet pas d'obtenir la meilleur policy dans tous les environnement.\n",
    "\n",
    "Mais nous allons avoir qu'il y'a des moyens d'améliorer tout ça :)"
   ]
  },
  {
   "cell_type": "markdown",
   "metadata": {},
   "source": [
    "## Encore plus de Théorie !##\n",
    "\n",
    "*Encore ?! On en a soupé là. Quand est-ce qu'on revient à notre jeu de Morpion ?*\n",
    "\n",
    "Et bien j'aimerais bien aussi :( Mais il faut comprendre que notre simple jeu de Morpion a un environnement plus complexe qu'il n'y parait. Bien que théoriquement on puisse déterminer tous les états possible du jeu, le nombre est assez élevé et du coup pas évident à mettre en place avec notre théorie d'apprentissage actuelle.\n",
    "\n",
    "Du coup je prospose qu'on étoffe un peu notre grille actuelle pour complexifié un peu le problème.\n",
    "\n",
    "On va faire grossir notre environnement de 5 cases ! Il fera donc 8x8 cases ! On va aussi rajouté plus de cases pièges disons 4 répartis aléatoirement et on va perturber le comportement de Boris !\n",
    "\n",
    "*Hein comment on va faire ça ?*\n",
    "\n",
    "Bah on va faire boire Boris jusqu'à ce qu'il soit assez saoul pour qu'il ne maîtrise pas bien ces mouvements. Ainsi quand il vaudra aller dans une direction, il aura une probabilité non nulle d'aller dans une autre direction ! Voilà qui devrait bien complexifier notre environnement et l'apprentissage de Boris.\n",
    "\n",
    "*Mouais C'est pas très éthique tout ça !*"
   ]
  },
  {
   "cell_type": "code",
   "execution_count": 149,
   "metadata": {
    "ExecuteTime": {
     "end_time": "2020-06-21T14:08:17.746329Z",
     "start_time": "2020-06-21T14:08:17.734324Z"
    }
   },
   "outputs": [
    {
     "data": {
      "text/plain": [
       "[[0, 0, 0, 0, 0, 0, 0, -1],\n",
       " [0, 0, 0, 0, 0, 0, 0, 0],\n",
       " [0, 0, 0, 0, 0, 0, 0, 0],\n",
       " [0, 0, 0, 0, 0, 0, 0, -1],\n",
       " [0, 0, 0, 0, 0, -1, 0, 0],\n",
       " [0, 0, 0, 0, 0, 0, 0, 0],\n",
       " [0, 0, 0, 0, 0, 0, 0, 0],\n",
       " [0, 0, 0, 0, 0, -1, 0, 1]]"
      ]
     },
     "execution_count": 149,
     "metadata": {},
     "output_type": "execute_result"
    }
   ],
   "source": [
    "# Création du nouvel environnement\n",
    "gros_env = create_env(8)\n",
    "\n",
    "# Ajout de pièges\n",
    "random.seed(777)\n",
    "for p in range(4):\n",
    "    gros_env[random.randint(0,7)][random.randint(0,7)] = -1\n",
    "    \n",
    "# Ajout des sous-sous\n",
    "gros_env[7][7] = 1\n",
    "\n",
    "gros_env"
   ]
  },
  {
   "attachments": {
    "image.png": {
     "image/png": "[encoded data removed]"
    }
   },
   "cell_type": "markdown",
   "metadata": {},
   "source": [
    "Voilà notre nouvel environnement :\n",
    "![image.png](attachment:image.png)\n",
    "\n",
    "Maintenant appliquons notre stratégie élaborée précedement avec notre Boris bourré."
   ]
  },
  {
   "cell_type": "code",
   "execution_count": 150,
   "metadata": {
    "ExecuteTime": {
     "end_time": "2020-06-21T14:08:21.222496Z",
     "start_time": "2020-06-21T14:08:21.210504Z"
    }
   },
   "outputs": [
    {
     "data": {
      "text/plain": [
       "[(0, 7), (3, 7), (4, 5), (7, 5), (7, 7)]"
      ]
     },
     "execution_count": 150,
     "metadata": {},
     "output_type": "execute_result"
    }
   ],
   "source": [
    "# On va faire une petit fonction pour récupérer les états de fin\n",
    "def etats_fin(env):\n",
    "    ef = []\n",
    "    for ligne in range(len(gros_env)):\n",
    "        for colonne in range(len(gros_env)):\n",
    "            if gros_env[ligne][colonne] != 0:\n",
    "                ef.append((ligne, colonne))\n",
    "    return ef\n",
    "\n",
    "etats_fin = etats_fin(gros_env)\n",
    "\n",
    "etats_fin"
   ]
  },
  {
   "cell_type": "code",
   "execution_count": 355,
   "metadata": {
    "ExecuteTime": {
     "end_time": "2020-06-21T14:54:58.609096Z",
     "start_time": "2020-06-21T14:54:58.589096Z"
    },
    "scrolled": true
   },
   "outputs": [
    {
     "data": {
      "text/plain": [
       "[[1, 3, 3, 2, 2, 2, 0, None],\n",
       " [3, 3, 2, 0, 0, 0, 2, 0],\n",
       " [0, 2, 2, 2, 0, 1, 2, 1],\n",
       " [3, 0, 2, 1, 0, 2, 3, None],\n",
       " [0, 3, 1, 0, 3, None, 2, 1],\n",
       " [3, 0, 3, 1, 3, 0, 3, 2],\n",
       " [2, 1, 0, 1, 0, 0, 0, 3],\n",
       " [2, 2, 0, 1, 0, None, 3, None]]"
      ]
     },
     "execution_count": 355,
     "metadata": {},
     "output_type": "execute_result"
    }
   ],
   "source": [
    "# Et une autre pour créer une policy au hasard\n",
    "def policy(env, end_state):\n",
    "    '''définit une policy au hasard\n",
    "    - env : l'environnement pour notre policy (listxlist)\n",
    "    - end_state : liste des états de fin (listextuple)\n",
    "    '''\n",
    "    size = len(env)\n",
    "    policy = [ligne.copy() for ligne in env]\n",
    "    for ligne in range(size):\n",
    "        for colonne in range(size):\n",
    "            if (ligne, colonne) not in end_state:\n",
    "                policy[ligne][colonne] = random.randint(0, 3)\n",
    "            else:\n",
    "                policy[ligne][colonne] = None\n",
    "    return policy\n",
    "\n",
    "random.seed(777)\n",
    "\n",
    "pi0 = policy(gros_env, etats_fin)\n",
    "\n",
    "pi0"
   ]
  },
  {
   "cell_type": "code",
   "execution_count": 356,
   "metadata": {
    "ExecuteTime": {
     "end_time": "2020-06-21T14:55:06.205097Z",
     "start_time": "2020-06-21T14:55:04.465129Z"
    }
   },
   "outputs": [
    {
     "name": "stdout",
     "output_type": "stream",
     "text": [
      "[-0.9999934670211585, -0.9999920028273606, -0.999975641930425, -0.9998858758788071, -0.9998334853869062, -0.9997357732008805, -0.9999387989238786, -1]\n",
      "[-0.9999934670211585, -0.9999920028273606, -0.999975641930425, -0.9998858758788071, -0.9998334853869062, -0.9997357732008805, -0.9999387989238786, -1]\n"
     ]
    },
    {
     "data": {
      "text/plain": [
       "[[-1.0, -1.0, -1.0, -1.0, -1.0, -1.0, -1.0, -1],\n",
       " [-1.0, -1.0, -1.0, -1.0, -1.0, -1.0, -1.0, -1.0],\n",
       " [-1.0, -1.0, -1.0, -1.0, -1.0, -1.0, -1.0, -1.0],\n",
       " [-1.0, -1.0, -1.0, -1.0, -1.0, -1.0, -1.0, -1],\n",
       " [-1.0, -1.0, -1.0, -1.0, -1.0, -1, -0.99, -0.99],\n",
       " [-1.0, -1.0, -1.0, -1.0, -1.0, -1.0, -0.99, -0.87],\n",
       " [-1.0, -1.0, -1.0, -1.0, -1.0, -1.0, -0.97, -0.83],\n",
       " [-1.0, -1.0, -1.0, -1.0, -1.0, -1, -0.86, 1]]"
      ]
     },
     "execution_count": 356,
     "metadata": {},
     "output_type": "execute_result"
    }
   ],
   "source": [
    "# Estimons notre VF avec Boris bourré\n",
    "v_new = [ligne.copy() for ligne in gros_env]\n",
    "\n",
    "for t in range(10000): # 10000 cycle chosit arbitrairement mais ça devrait largement converger\n",
    "    v_old = [ligne.copy() for ligne in v_new]\n",
    "    v_new = VF(v_old, etats_fin, -1, 0.8, pi0) # -1 si la direction choisie est impossible pour décourager Boris d'aller dans le mur\n",
    "    if t >= 9998:\n",
    "        print(v_new[0]) # pour comparer et determiner si ça converge bien\n",
    "    \n",
    "vf_gros_env = [ligne.copy() for ligne in v_new]\n",
    "\n",
    "[[round(v,2) for v in ligne] for ligne in vf_gros_env]"
   ]
  },
  {
   "cell_type": "code",
   "execution_count": 357,
   "metadata": {
    "ExecuteTime": {
     "end_time": "2020-06-21T14:55:13.623108Z",
     "start_time": "2020-06-21T14:55:13.611106Z"
    },
    "scrolled": true
   },
   "outputs": [
    {
     "data": {
      "text/plain": [
       "[[1, 1, 2, 1, 1, 2, 2, -1],\n",
       " [1, 1, 2, 2, 1, 2, 2, 3],\n",
       " [1, 1, 1, 1, 1, 1, 2, 3],\n",
       " [1, 1, 1, 2, 2, 1, 2, -1],\n",
       " [1, 1, 1, 2, 2, -1, 2, 2],\n",
       " [1, 2, 1, 2, 1, 1, 1, 2],\n",
       " [1, 1, 1, 1, 1, 1, 1, 2],\n",
       " [1, 1, 1, 0, 0, -1, 1, 1]]"
      ]
     },
     "execution_count": 357,
     "metadata": {},
     "output_type": "execute_result"
    }
   ],
   "source": [
    "# Création de notre nouvelle optimal policy\n",
    "pi1 = optimal_policy(vf_gros_env, etats_fin)\n",
    "pi1"
   ]
  },
  {
   "attachments": {},
   "cell_type": "markdown",
   "metadata": {},
   "source": [
    "*Bah à ça à l'air bon non ? On peut s'arrêter là.*\n",
    "\n",
    "Et bien on va tester.\n",
    "\n",
    "- Boris ! Viens je t'invite à prendre un verre !"
   ]
  },
  {
   "cell_type": "markdown",
   "metadata": {},
   "source": [
    "Maintenant on peut balancer notre Boris saoul dans l'environnement et voir comment il se débrouille avec sa nouvelle policy"
   ]
  },
  {
   "cell_type": "code",
   "execution_count": 358,
   "metadata": {
    "ExecuteTime": {
     "end_time": "2020-06-21T14:55:45.781216Z",
     "start_time": "2020-06-21T14:55:45.765215Z"
    },
    "scrolled": true
   },
   "outputs": [
    {
     "name": "stdout",
     "output_type": "stream",
     "text": [
      "Fin de l'exploration de Boris.\n",
      "Gains de Boris saoul : 64 $\n"
     ]
    }
   ],
   "source": [
    "random.seed(777)\n",
    "\n",
    "tirelire = 0 # Bah oui il est saoul ! Il a tout dépenser dans l'alcool\n",
    "exploration = 100\n",
    "size = len(gros_env)\n",
    "while exploration > 0:\n",
    "    boris = (0, 0)\n",
    "    explore = True\n",
    "    while explore:\n",
    "        mouv = deplacement(len(gros_env), boris, pi1[boris[0]][boris[1]], 0.8)\n",
    "        if mouv != False:\n",
    "            boris = mouv \n",
    "        if boris in etats_fin:\n",
    "            tirelire += gros_env[boris[0]][boris[1]]\n",
    "            explore = False\n",
    "            \n",
    "    exploration -= 1\n",
    "    \n",
    "print(\"Fin de l'exploration de Boris.\")\n",
    "print(\"Gains de Boris saoul :\", tirelire, \"$\")"
   ]
  },
  {
   "cell_type": "markdown",
   "metadata": {},
   "source": [
    "*Ah ouais le Boris bourré est moins efficace !*\n",
    "\n",
    "Du coup on peut se demander s'il y a une autre policy possible qui soit plus efficace pour le Boris bourré. Alors comment on fait ça ?"
   ]
  },
  {
   "cell_type": "markdown",
   "metadata": {},
   "source": [
    "## Policy Iteration ##\n",
    "\n",
    "*Oh non qu'est ce que c'est que ça :(*\n",
    "\n",
    "Le mieux c'est de décrire l'algo directement je crois :\n",
    "1. On determine une policy **π** arbitraire\n",
    "2. On calcul les valeurs d'état selon π\n",
    "3. On determine la policy qui max nos gain avec cette value function\n",
    "4. Si cette dernière policy est différente de la policy d'avant on recommence\n",
    "\n",
    "Bon c'est pas trés clair comme ça j'en convient. Essayons de mettre ça en pratique."
   ]
  },
  {
   "cell_type": "code",
   "execution_count": 359,
   "metadata": {
    "ExecuteTime": {
     "end_time": "2020-06-21T15:00:38.988601Z",
     "start_time": "2020-06-21T15:00:37.436601Z"
    },
    "scrolled": true
   },
   "outputs": [
    {
     "name": "stdout",
     "output_type": "stream",
     "text": [
      "[0.013670217606366539, 0.16363622559137062, 0.25678231234856375, 0.09724149041923173, 0.15325192952964772, 0.23818512149516924, 0.15682541070828548, -1]\n",
      "[0.013670217606366539, 0.16363622559137062, 0.25678231234856375, 0.09724149041923173, 0.15325192952964772, 0.23818512149516924, 0.15682541070828548, -1]\n"
     ]
    },
    {
     "data": {
      "text/plain": [
       "[[0.01, 0.16, 0.26, 0.1, 0.15, 0.24, 0.16, -1],\n",
       " [0.24, 0.36, 0.38, 0.36, 0.34, 0.36, 0.34, 0.15],\n",
       " [0.29, 0.4, 0.4, 0.38, 0.37, 0.37, 0.37, 0.18],\n",
       " [0.41, 0.53, 0.55, 0.56, 0.43, 0.3, 0.39, -1],\n",
       " [0.45, 0.57, 0.59, 0.59, 0.44, -1, 0.52, 0.44],\n",
       " [0.43, 0.55, 0.6, 0.6, 0.55, 0.54, 0.66, 0.67],\n",
       " [0.41, 0.56, 0.59, 0.61, 0.63, 0.65, 0.8, 0.83],\n",
       " [0.11, 0.27, 0.37, 0.47, 0.4, -1, 0.72, 1]]"
      ]
     },
     "execution_count": 359,
     "metadata": {},
     "output_type": "execute_result"
    }
   ],
   "source": [
    "# Reprenons la dérnière policy de Boris et evaluons là\n",
    "random.seed(777)\n",
    "\n",
    "# Estimons notre VF avec Boris bourré\n",
    "v_new = [ligne.copy() for ligne in gros_env]\n",
    "\n",
    "for t in range(10000):\n",
    "    v_old = [ligne.copy() for ligne in v_new]\n",
    "    v_new = VF(v_old, etats_fin, -1, 0.8, pi1)\n",
    "    if t >= 9998:\n",
    "        print(v_new[0])\n",
    "    \n",
    "v1_gros_env = [ligne.copy() for ligne in v_new]\n",
    "\n",
    "[[round(v,2) for v in ligne] for ligne in v1_gros_env]\n"
   ]
  },
  {
   "cell_type": "code",
   "execution_count": 360,
   "metadata": {
    "ExecuteTime": {
     "end_time": "2020-06-21T15:01:37.552768Z",
     "start_time": "2020-06-21T15:01:37.544759Z"
    },
    "scrolled": true
   },
   "outputs": [
    {
     "data": {
      "text/plain": [
       "[[2, 2, 2, 2, 2, 2, 2, -1],\n",
       " [1, 2, 2, 2, 2, 2, 2, 3],\n",
       " [2, 2, 2, 2, 2, 1, 2, 3],\n",
       " [1, 2, 2, 2, 3, 3, 2, -1],\n",
       " [1, 1, 2, 2, 3, -1, 2, 2],\n",
       " [1, 1, 1, 2, 2, 1, 2, 2],\n",
       " [1, 1, 1, 1, 1, 1, 1, 2],\n",
       " [0, 0, 0, 0, 0, -1, 1, 1]]"
      ]
     },
     "execution_count": 360,
     "metadata": {},
     "output_type": "execute_result"
    }
   ],
   "source": [
    "# On définit notre nouvelle policy à partir de v1\n",
    "pi2 = optimal_policy(v1_gros_env, etats_fin)\n",
    "\n",
    "pi2"
   ]
  },
  {
   "cell_type": "code",
   "execution_count": 361,
   "metadata": {
    "ExecuteTime": {
     "end_time": "2020-06-21T15:01:50.118686Z",
     "start_time": "2020-06-21T15:01:50.110681Z"
    },
    "scrolled": true
   },
   "outputs": [
    {
     "data": {
      "text/plain": [
       "False"
      ]
     },
     "execution_count": 361,
     "metadata": {},
     "output_type": "execute_result"
    }
   ],
   "source": [
    "# On checke si pi_new == pi_old\n",
    "pi1 == pi2"
   ]
  },
  {
   "cell_type": "markdown",
   "metadata": {},
   "source": [
    "La nouvelle policy diffère de la précédente, du coup on recommence le process jusqu'à trouver le policy optimale"
   ]
  },
  {
   "cell_type": "code",
   "execution_count": 362,
   "metadata": {
    "ExecuteTime": {
     "end_time": "2020-06-21T15:04:09.061294Z",
     "start_time": "2020-06-21T15:04:07.473288Z"
    }
   },
   "outputs": [
    {
     "data": {
      "text/plain": [
       "False"
      ]
     },
     "execution_count": 362,
     "metadata": {},
     "output_type": "execute_result"
    }
   ],
   "source": [
    "# Reprenons la dérnière policy de Boris et evaluons là\n",
    "random.seed(777)\n",
    "\n",
    "v_new = [ligne.copy() for ligne in gros_env]\n",
    "for t in range(10000):\n",
    "    v_old = [ligne.copy() for ligne in v_new]\n",
    "    v_new = VF(v_old, etats_fin, -1, 0.8, pi2)\n",
    "\n",
    "v2_gros_env = [ligne.copy() for ligne in v_new]\n",
    "\n",
    "# On définit notre nouvelle policy à partir de v2\n",
    "pi3 = optimal_policy(v2_gros_env, etats_fin)\n",
    "\n",
    "# On compare les policy\n",
    "pi3 == pi2"
   ]
  },
  {
   "cell_type": "code",
   "execution_count": 366,
   "metadata": {
    "ExecuteTime": {
     "end_time": "2020-06-21T15:19:46.631262Z",
     "start_time": "2020-06-21T15:19:43.583207Z"
    },
    "scrolled": true
   },
   "outputs": [
    {
     "name": "stdout",
     "output_type": "stream",
     "text": [
      "4 False\n",
      "5 True\n",
      "nombre d'itérations : 5\n",
      "policy optimale :\n"
     ]
    },
    {
     "data": {
      "text/plain": [
       "[[2, 2, 2, 2, 2, 2, 2, -1],\n",
       " [1, 2, 2, 2, 2, 3, 3, 3],\n",
       " [1, 1, 2, 2, 3, 3, 3, 3],\n",
       " [1, 1, 2, 3, 3, 3, 2, -1],\n",
       " [1, 1, 2, 2, 2, -1, 2, 2],\n",
       " [1, 1, 1, 1, 2, 1, 2, 2],\n",
       " [1, 1, 1, 1, 1, 1, 1, 2],\n",
       " [1, 0, 0, 0, 0, -1, 1, 1]]"
      ]
     },
     "execution_count": 366,
     "metadata": {},
     "output_type": "execute_result"
    }
   ],
   "source": [
    "# On recommence temps que les policy ne sont pas identiques\n",
    "v_new = [ligne.copy() for ligne in v2_gros_env]\n",
    "pi_new = [ligne.copy() for ligne in pi3]\n",
    "pi_old = [ligne.copy() for ligne in pi2]\n",
    "\n",
    "i = 3\n",
    "\n",
    "while pi_old != pi_new:\n",
    "    i += 1\n",
    "    pi_old = [ligne.copy() for ligne in pi_new]\n",
    "    v_new = [ligne.copy() for ligne in gros_env]\n",
    "    for t in range(10000):\n",
    "        v_old = [ligne.copy() for ligne in v_new]\n",
    "        v_new = VF(v_old, etats_fin, -1, 0.8, pi_old)\n",
    "\n",
    "    v_old = [ligne.copy() for ligne in v_new]\n",
    "\n",
    "    pi_new = optimal_policy(v_new, etats_fin)\n",
    "\n",
    "    print(i, pi_old == pi_new)\n",
    "\n",
    "optimal_pi = pi_new\n",
    "\n",
    "print('nombre d\\'itérations :', i)\n",
    "print('policy optimale :')\n",
    "optimal_pi"
   ]
  },
  {
   "cell_type": "markdown",
   "metadata": {},
   "source": [
    "*Hourra ! On y est arrivé cette fois ! ... N'est ce pas ?*\n",
    "\n",
    "Ah... oui, normalement ^^ Mais bon vaut mieux vérifier en live. Rebalançons notre Boris bourré dans l'environnement pour voir ce qu'il récolte avec notre nouvelle policy.\n",
    "\n",
    "_Va vraiment faire plus attention à Boris, on risque d'avoir des plaintes de la ligue de protections des Boris..._"
   ]
  },
  {
   "cell_type": "code",
   "execution_count": 367,
   "metadata": {
    "ExecuteTime": {
     "end_time": "2020-06-21T15:26:37.375716Z",
     "start_time": "2020-06-21T15:26:37.355720Z"
    },
    "scrolled": true
   },
   "outputs": [
    {
     "name": "stdout",
     "output_type": "stream",
     "text": [
      "Fin de la ballade optimale du Boris saoul.\n",
      "Gains de Boris: 74 $\n"
     ]
    }
   ],
   "source": [
    "random.seed(777)\n",
    "\n",
    "tirelire = 0 # Par soucis d'équité des tests scientifiques, on lui a piqué tous ses précédents gains.\n",
    "exploration = 100 # Comme d'hab\n",
    "size = len(gros_env)\n",
    "\n",
    "while exploration > 0:\n",
    "    boris = (0, 0)\n",
    "    explore = True\n",
    "    while explore:\n",
    "        mouv = deplacement(len(gros_env), boris, optimal_pi[boris[0]][boris[1]], 0.8)\n",
    "        if mouv != False:\n",
    "            boris = mouv \n",
    "        if boris in etats_fin:\n",
    "            tirelire += gros_env[boris[0]][boris[1]]\n",
    "            explore = False\n",
    "            \n",
    "    exploration -= 1\n",
    "    \n",
    "print(\"Fin de la ballade optimale du Boris saoul.\")\n",
    "print(\"Gains de Boris:\", tirelire, \"$\")"
   ]
  },
  {
   "cell_type": "markdown",
   "metadata": {},
   "source": [
    "*Ooooooh... **+10$**  C'est pas mal du tout !!*\n",
    "\n",
    "*...*\n",
    "\n",
    "*Est-ce qu'on ose demander...*\n",
    "\n",
    "Quoi ?\n",
    "\n",
    "*Ce... Ce serait possible de faire encore mieux ?*\n",
    "\n",
    "**Argh quoi !? Vous en voulez encore !!!** J'en était sûr que vous finiriez par aimer la théorie (bon on a pas ma pratiqué là c'est vrai) Et bien, on peut faire un autre algo : la **VALUE ITERATION**\n",
    "\n",
    "*Hum... Autant, on comprend l'intêret de la **Policy Iteration** mais la **Value Iteration**...*\n",
    "\n",
    "Attendez que je vous explique ce que c'est au moins !\n",
    "\n",
    "Allez go !"
   ]
  },
  {
   "cell_type": "markdown",
   "metadata": {},
   "source": [
    "## Value Iteration ##\n",
    "\n",
    "En fait c'est assez simple, on se dit que dès la première itération de l'estimation de notre Value Function pour une policy, la nouvelle policy que l'on peut obtenir de cette estimation très parcellaire de notre VF est au pire équivalente à l'ancienne polic, et au mieux elle est meilleure. Du coup on peut modifier notre policy à chaque itération de notre VF et théoriquement converger plus vite.\n",
    "\n",
    "Allez, petite formule pour faire plaisir ^^\n",
    "\n",
    "$$ v_{k+1}(s) = max_a E[r_{t+1} + \\gamma.v_{k}(s_{t+1})|s_t = s, a_t = a] $$\n",
    "\n",
    "*AAAAARGH !!! NOOOOON !!!!*\n",
    "\n",
    "Hé ! On se calme c'est quasiment la même que la dernière fois ! On a juste rajouté des $k$ et $k+1$ juste pour dier qu'à chaque étape on prend l'action $max$ de l'espérance de nos gains afin de pouvoir en définir une policy à chaque itération.\n",
    "\n",
    "Bon allez, ça suffit, on y va, ça sera plus simple bande de grognons !"
   ]
  },
  {
   "cell_type": "code",
   "execution_count": 372,
   "metadata": {
    "ExecuteTime": {
     "end_time": "2020-06-21T17:24:40.773251Z",
     "start_time": "2020-06-21T17:24:40.745253Z"
    }
   },
   "outputs": [
    {
     "data": {
      "text/plain": [
       "[[0.0, 0.0, 0.0, 0.0, 0.0, 0.0, -0.1, -1],\n",
       " [0.0, 0.0, 0.0, 0.0, 0.0, 0.0, 0.0, -0.1],\n",
       " [0.0, 0.0, 0.0, 0.0, 0.0, 0.0, 0.0, -0.1],\n",
       " [0.0, 0.0, 0.0, 0.0, 0.0, -0.07, -0.07, -1],\n",
       " [0.0, 0.0, 0.0, 0.0, -0.07, -1, -0.07, -0.1],\n",
       " [0.0, 0.0, 0.0, 0.0, 0.0, -0.07, 0.0, 0.0],\n",
       " [0.0, 0.0, 0.0, 0.0, 0.0, -0.07, 0.0, 0.8],\n",
       " [0.0, 0.0, 0.0, 0.0, -0.1, -1, 0.7, 1]]"
      ]
     },
     "execution_count": 372,
     "metadata": {},
     "output_type": "execute_result"
    }
   ],
   "source": [
    "# Bon d'abord on va créer une fonction VF spéciale Value Iteration\n",
    "def VF_VI(env, end_state, if_out, proba=1):\n",
    "    '''Calcul la value function pour un etat\n",
    "    - env : environnement (listxlist)\n",
    "    - end_state : les états de fin (gain ou perte) (listxtuple)\n",
    "    - if_out : comportement si direction en dehors de l'environnement ('out' ou int)\n",
    "    - proba : probabilité du déplacement choisi (float{0,1})\n",
    "    '''\n",
    "    v = [ligne.copy() for ligne in env]\n",
    "    v_new = [ligne.copy() for ligne in env]\n",
    "    size = len(env)\n",
    "    for ligne in range(size):\n",
    "        for colonne in range(size):\n",
    "            if (ligne, colonne) not in end_state:\n",
    "                haut = v[ligne-1][colonne] if ligne > 0 else if_out\n",
    "                bas = v[ligne+1][colonne] if ligne < size - 1 else if_out\n",
    "                droite = v[ligne][colonne+1] if colonne < size - 1 else if_out\n",
    "                gauche = v[ligne][colonne-1] if colonne > 0 else if_out\n",
    "                directions = [haut, droite, bas, gauche]\n",
    "\n",
    "                directions = [v for v in directions if v != 'out']\n",
    "                valeurs = [((proba*(len(directions)-1)-(1-proba))*v+(1-proba)*sum(directions))/(len(directions)-1) for v in directions]\n",
    "                v_new[ligne][colonne] = max(valeurs)\n",
    "\n",
    "    return v_new\n",
    "\n",
    "# On reprend notre gros_env et appliquons une fois la value fonction en prenant les max\n",
    "v1_vi = VF_VI(gros_env, etats_fin, 'out', 0.8)\n",
    "\n",
    "[[round(v, 2) for v in ligne] for ligne in v1_vi]"
   ]
  },
  {
   "cell_type": "code",
   "execution_count": 373,
   "metadata": {
    "ExecuteTime": {
     "end_time": "2020-06-21T17:30:25.070793Z",
     "start_time": "2020-06-21T17:30:21.554790Z"
    },
    "scrolled": true
   },
   "outputs": [
    {
     "name": "stdout",
     "output_type": "stream",
     "text": [
      "optimal value function :\n"
     ]
    },
    {
     "data": {
      "text/plain": [
       "[[0.79, 0.79, 0.79, 0.79, 0.79, 0.77, 0.59, -1],\n",
       " [0.79, 0.79, 0.79, 0.79, 0.79, 0.79, 0.76, 0.56],\n",
       " [0.79, 0.79, 0.79, 0.79, 0.79, 0.78, 0.75, 0.56],\n",
       " [0.79, 0.79, 0.79, 0.79, 0.77, 0.65, 0.65, -1],\n",
       " [0.79, 0.79, 0.79, 0.78, 0.67, -1, 0.78, 0.75],\n",
       " [0.79, 0.79, 0.79, 0.79, 0.79, 0.79, 0.94, 0.96],\n",
       " [0.79, 0.79, 0.79, 0.79, 0.79, 0.81, 0.96, 0.99],\n",
       " [0.79, 0.79, 0.79, 0.77, 0.61, -1, 0.8, 1]]"
      ]
     },
     "execution_count": 373,
     "metadata": {},
     "output_type": "execute_result"
    }
   ],
   "source": [
    "# On boucle jusqu'à s'approche d'une VF optimale\n",
    "v_vi_new = [ligne.copy() for ligne in v1_vi]\n",
    "\n",
    "t = 1\n",
    "while t < 10000:\n",
    "    v_vi_old = [ligne.copy() for ligne in v_vi_new]\n",
    "    v_vi_new = VF_VI(v_vi_old, etats_fin, 'out', 0.8)\n",
    "    t += 1\n",
    "    \n",
    "print('optimal value function :')\n",
    "[[round(v, 2) for v in ligne] for ligne in v_vi_new]"
   ]
  },
  {
   "cell_type": "code",
   "execution_count": 374,
   "metadata": {
    "ExecuteTime": {
     "end_time": "2020-06-21T17:32:48.672361Z",
     "start_time": "2020-06-21T17:32:48.660365Z"
    }
   },
   "outputs": [
    {
     "data": {
      "text/plain": [
       "[[2, 3, 3, 3, 3, 3, 3, -1],\n",
       " [2, 3, 3, 3, 3, 3, 3, 3],\n",
       " [2, 3, 3, 3, 3, 3, 3, 3],\n",
       " [2, 3, 3, 3, 3, 0, 2, -1],\n",
       " [2, 2, 3, 3, 2, -1, 2, 2],\n",
       " [2, 2, 2, 2, 2, 1, 2, 2],\n",
       " [1, 1, 1, 1, 1, 1, 1, 2],\n",
       " [0, 0, 0, 0, 0, -1, 1, 1]]"
      ]
     },
     "execution_count": 374,
     "metadata": {},
     "output_type": "execute_result"
    }
   ],
   "source": [
    "# y'a plus qu'à faire notre optimal policy\n",
    "vi_pi = optimal_policy(v_vi_new, etats_fin)\n",
    "\n",
    "vi_pi"
   ]
  },
  {
   "cell_type": "code",
   "execution_count": 375,
   "metadata": {
    "ExecuteTime": {
     "end_time": "2020-06-21T17:35:45.458864Z",
     "start_time": "2020-06-21T17:35:45.442896Z"
    },
    "scrolled": true
   },
   "outputs": [
    {
     "name": "stdout",
     "output_type": "stream",
     "text": [
      "Fin de parcours pour Boris... Il en peut plus le pauvre.\n",
      "Gains de Boris: 80 $\n"
     ]
    }
   ],
   "source": [
    "# plus qu'à tester ^^\n",
    "# Allez qu'on m'amène Boris et qu'on lui bourre la gueule ! (pov Boris :( ...)\n",
    "random.seed(777)\n",
    "\n",
    "tirelire = 0 # Qui a encore piqué les sous de Boris ! ça suffit maintenant !\n",
    "exploration = 100\n",
    "size = len(gros_env)\n",
    "\n",
    "while exploration > 0:\n",
    "    boris = (0, 0)\n",
    "    explore = True\n",
    "    while explore:\n",
    "        mouv = deplacement(len(gros_env), boris, vi_pi[boris[0]][boris[1]], 0.8)\n",
    "        if mouv != False:\n",
    "            boris = mouv \n",
    "        if boris in etats_fin:\n",
    "            tirelire += gros_env[boris[0]][boris[1]]\n",
    "            explore = False\n",
    "            \n",
    "    exploration -= 1\n",
    "    \n",
    "print(\"Fin de parcours pour Boris... Il en peut plus le pauvre.\")\n",
    "print(\"Gains de Boris:\", tirelire, \"$\")"
   ]
  },
  {
   "cell_type": "markdown",
   "metadata": {},
   "source": [
    "***OOOOOOOH !!! IL A ENCORE GAGNE PLUS !!!***\n",
    "*Doit être content finalement le Boris :) Et cette fois on lui laisse les sous hein ?*\n",
    "Oui, oui promis on le laisse tranquille maintenant.\n",
    "\n",
    "Bon on se fait un petit recap ?\n",
    "\n",
    "|Algo               |Gains  |Différence  |\n",
    "|:-----------------:|:---:|:----------:|\n",
    "|Policy Improvement |64\\$|   |\n",
    "|Policy Iteration   |74\\$|+10|\n",
    "|Value Iteration    |80\\$|+16|\n",
    "\n",
    "Je ne sais pas vous mais je trouve ça beau ^^\n",
    "\n",
    "Bon on a mérité notre pause !\n",
    "\n",
    "A bientôt pour de futures aventures avec Boris dans l'univers du **Reinforcement Learning**\n",
    "\n",
    "Bye bye ^^"
   ]
  }
 ],
 "metadata": {
  "kernelspec": {
   "display_name": "Python 3",
   "language": "python",
   "name": "python3"
  },
  "language_info": {
   "codemirror_mode": {
    "name": "ipython",
    "version": 3
   },
   "file_extension": ".py",
   "mimetype": "text/x-python",
   "name": "python",
   "nbconvert_exporter": "python",
   "pygments_lexer": "ipython3",
   "version": "3.8.0"
  }
 },
 "nbformat": 4,
 "nbformat_minor": 4
}
